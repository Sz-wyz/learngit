{
 "cells": [
  {
   "cell_type": "code",
   "execution_count": 1,
   "metadata": {},
   "outputs": [
    {
     "data": {
      "text/plain": [
       "[7, 9, 4, 8, 3, 6, 10, 5]"
      ]
     },
     "execution_count": 1,
     "metadata": {},
     "output_type": "execute_result"
    }
   ],
   "source": [
    "aList = [3,4,5,6,7,8,9,10]\n",
    "import random\n",
    "random.shuffle(aList)\n",
    "aList"
   ]
  },
  {
   "cell_type": "code",
   "execution_count": 2,
   "metadata": {},
   "outputs": [],
   "source": [
    "aList.sort()"
   ]
  },
  {
   "cell_type": "code",
   "execution_count": 3,
   "metadata": {},
   "outputs": [
    {
     "data": {
      "text/plain": [
       "[3, 4, 5, 6, 7, 8, 9, 10]"
      ]
     },
     "execution_count": 3,
     "metadata": {},
     "output_type": "execute_result"
    }
   ],
   "source": [
    "aList"
   ]
  },
  {
   "cell_type": "code",
   "execution_count": 4,
   "metadata": {},
   "outputs": [
    {
     "data": {
      "text/plain": [
       "[10, 9, 8, 7, 6, 5, 4, 3]"
      ]
     },
     "execution_count": 4,
     "metadata": {},
     "output_type": "execute_result"
    }
   ],
   "source": [
    "aList.sort(reverse=True)\n",
    "aList"
   ]
  },
  {
   "cell_type": "code",
   "execution_count": 6,
   "metadata": {},
   "outputs": [
    {
     "data": {
      "text/plain": [
       "[3, 4, 5, 6, 7, 8, 9, 10]"
      ]
     },
     "execution_count": 6,
     "metadata": {},
     "output_type": "execute_result"
    }
   ],
   "source": [
    "sorted(aList)#返回的是一个列表"
   ]
  },
  {
   "cell_type": "code",
   "execution_count": 7,
   "metadata": {},
   "outputs": [],
   "source": [
    "aList = [random.randint(50,100) for i in range(10)]"
   ]
  },
  {
   "cell_type": "code",
   "execution_count": 8,
   "metadata": {},
   "outputs": [
    {
     "data": {
      "text/plain": [
       "[75, 63, 72, 58, 79, 74, 92, 82, 60, 89]"
      ]
     },
     "execution_count": 8,
     "metadata": {},
     "output_type": "execute_result"
    }
   ],
   "source": [
    "aList"
   ]
  },
  {
   "cell_type": "code",
   "execution_count": 9,
   "metadata": {},
   "outputs": [
    {
     "data": {
      "text/plain": [
       "[89, 60, 82, 92, 74, 79, 58, 72, 63, 75]"
      ]
     },
     "execution_count": 9,
     "metadata": {},
     "output_type": "execute_result"
    }
   ],
   "source": [
    "aList.reverse()#原地逆序\n",
    "aList"
   ]
  },
  {
   "cell_type": "code",
   "execution_count": 10,
   "metadata": {},
   "outputs": [
    {
     "data": {
      "text/plain": [
       "<list_reverseiterator at 0x1a64ad99e80>"
      ]
     },
     "execution_count": 10,
     "metadata": {},
     "output_type": "execute_result"
    }
   ],
   "source": [
    "reversed(aList)#返回的是一个新的列表"
   ]
  },
  {
   "cell_type": "code",
   "execution_count": 11,
   "metadata": {},
   "outputs": [
    {
     "data": {
      "text/plain": [
       "[75, 63, 72, 58, 79, 74, 92, 82, 60, 89]"
      ]
     },
     "execution_count": 11,
     "metadata": {},
     "output_type": "execute_result"
    }
   ],
   "source": [
    "list(reversed(aList))#将其列表化"
   ]
  },
  {
   "cell_type": "code",
   "execution_count": 12,
   "metadata": {},
   "outputs": [
    {
     "data": {
      "text/plain": [
       "744"
      ]
     },
     "execution_count": 12,
     "metadata": {},
     "output_type": "execute_result"
    }
   ],
   "source": [
    "sum(list(reversed(aList)))"
   ]
  },
  {
   "cell_type": "code",
   "execution_count": 31,
   "metadata": {},
   "outputs": [
    {
     "name": "stdout",
     "output_type": "stream",
     "text": [
      "(0, (17, 14))\n",
      "(1, (16, 17))\n",
      "(2, (14, 20))\n",
      "(3, (15, 13))\n",
      "(4, (14, 10))\n"
     ]
    }
   ],
   "source": [
    "List_a = [random.randint(10,20) for i in range(5)]\n",
    "List_b = [random.randint(10,20) for i in range(5)]\n",
    "List_c = zip(List_a,List_b)\n",
    "for item in enumerate(list(List_c)):\n",
    "    print(item)"
   ]
  },
  {
   "cell_type": "code",
   "execution_count": 32,
   "metadata": {},
   "outputs": [
    {
     "name": "stdout",
     "output_type": "stream",
     "text": [
      "0 (14, 13)\n",
      "1 (17, 17)\n",
      "2 (16, 14)\n",
      "3 (11, 15)\n",
      "4 (14, 19)\n"
     ]
    }
   ],
   "source": [
    "List_a = [random.randint(10,20) for i in range(5)]\n",
    "List_b = [random.randint(10,20) for i in range(5)]\n",
    "List_c = zip(List_a,List_b)\n",
    "for index,ch in enumerate(list(List_c)):\n",
    "    print(index,ch)"
   ]
  },
  {
   "cell_type": "code",
   "execution_count": 33,
   "metadata": {},
   "outputs": [
    {
     "data": {
      "text/plain": [
       "[1, 2, 3, 4, 5, 6, 7, 8, 9]"
      ]
     },
     "execution_count": 33,
     "metadata": {},
     "output_type": "execute_result"
    }
   ],
   "source": [
    "#列表推导式\n",
    "vec = [[1,2,3],[4,5,6],[7,8,9]]\n",
    "[ch for k in vec for ch in k]"
   ]
  },
  {
   "cell_type": "code",
   "execution_count": 36,
   "metadata": {},
   "outputs": [
    {
     "data": {
      "text/plain": [
       "3"
      ]
     },
     "execution_count": 36,
     "metadata": {},
     "output_type": "execute_result"
    }
   ],
   "source": [
    "a = (3)\n",
    "a"
   ]
  },
  {
   "cell_type": "code",
   "execution_count": 43,
   "metadata": {},
   "outputs": [
    {
     "name": "stdout",
     "output_type": "stream",
     "text": [
      "1\n",
      "a b\n"
     ]
    }
   ],
   "source": [
    "#序列解包\n",
    "print(*[1])\n",
    "print(*{'a':2,'b':3})"
   ]
  },
  {
   "cell_type": "code",
   "execution_count": 46,
   "metadata": {},
   "outputs": [
    {
     "data": {
      "text/plain": [
       "{'__name__': '__main__',\n",
       " '__doc__': 'Automatically created module for IPython interactive environment',\n",
       " '__package__': None,\n",
       " '__loader__': None,\n",
       " '__spec__': None,\n",
       " '__builtin__': <module 'builtins' (built-in)>,\n",
       " '__builtins__': <module 'builtins' (built-in)>,\n",
       " '_ih': ['',\n",
       "  'aList = [3,4,5,6,7,8,9,10]\\nimport random\\nrandom.shuffle(aList)\\naList',\n",
       "  'aList.sort()',\n",
       "  'aList',\n",
       "  'aList.sort(reverse=True)\\naList',\n",
       "  'sorter(aList)#返回的是一个列表',\n",
       "  'sorted(aList)#返回的是一个列表',\n",
       "  'aList = [random.randint(50,100) for i in range(10)]',\n",
       "  'aList',\n",
       "  'aList.reverse()#原地逆序\\naList',\n",
       "  'reversed(aList)#返回的是一个新的列表',\n",
       "  'list(reversed(aList))#将其列表化',\n",
       "  'sum(list(reversed(aList)))',\n",
       "  'str(65)',\n",
       "  \"65 is 'A'\",\n",
       "  'List_a = [random.randint(10,20) for i in range(5)]\\nList_b = [random.randint(10,20) for i in range(5)]\\nList_c = zip(List_a,List_b)',\n",
       "  'List_a = [random.randint(10,20) for i in range(5)]\\nList_b = [random.randint(10,20) for i in range(5)]\\nList_c = zip(List_a,List_b)\\nList_c',\n",
       "  'List_a = [random.randint(10,20) for i in range(5)]\\nList_b = [random.randint(10,20) for i in range(5)]\\nList_c = zip(List_a,List_b)\\ntype(List_c)',\n",
       "  'List_a = [random.randint(10,20) for i in range(5)]\\nList_b = [random.randint(10,20) for i in range(5)]\\nList_c = zip(List_a,List_b)\\nlist(List_c)',\n",
       "  'for item in enumerate(List_c):\\n    print(item)',\n",
       "  'for item in enumerate(List_c):\\n    print(item)',\n",
       "  'for item in enumerate(list(List_c)):\\n    print(item)',\n",
       "  'for item in enumerate(list(List_c)):\\n    print(item)',\n",
       "  'print(list(List_c))\\nfor item in enumerate(list(List_c)):\\n    print(item)',\n",
       "  'List_c',\n",
       "  'list(List_c)',\n",
       "  'List_a = [random.randint(10,20) for i in range(5)]\\nList_b = [random.randint(10,20) for i in range(5)]\\nList_c = zip(List_a,List_b)\\nfor item in enumerate(list(List_c)):\\n    print(item)',\n",
       "  'List_a = [random.randint(10,20) for i in range(5)]\\nList_b = [random.randint(10,20) for i in range(5)]\\nList_c = zip(List_a,List_b)\\nfor item in enumerate(list(List_c)):\\n    print(item)\\nfor index,ch in enumerate(list(List_c)):\\n    print(index,ch)',\n",
       "  'List_a = [random.randint(10,20) for i in range(5)]\\nList_b = [random.randint(10,20) for i in range(5)]\\nList_c = zip(List_a,List_b)\\nfor item in enumerate(list(List_c)):\\n    print(item)\\nfor index,ch in enumerate(list(List_c)):\\n    print(index,ch)',\n",
       "  'List_a = [random.randint(10,20) for i in range(5)]\\nList_b = [random.randint(10,20) for i in range(5)]\\nList_c = zip(List_a,List_b)\\n##print(item)\\nfor index,ch in enumerate(list(List_c)):\\n    print(index,ch)',\n",
       "  'List_a = [random.randint(10,20) for i in range(5)]\\nList_b = [random.randint(10,20) for i in range(5)]\\nList_c = zip(List_a,List_b)\\n##print(item)\\nfor index,ch in enumerate(list(List_c)):\\n    print(index,ch)',\n",
       "  'List_a = [random.randint(10,20) for i in range(5)]\\nList_b = [random.randint(10,20) for i in range(5)]\\nList_c = zip(List_a,List_b)\\nfor item in enumerate(list(List_c)):\\n    print(item)',\n",
       "  'List_a = [random.randint(10,20) for i in range(5)]\\nList_b = [random.randint(10,20) for i in range(5)]\\nList_c = zip(List_a,List_b)\\n##print(item)\\nfor index,ch in enumerate(list(List_c)):\\n    print(index,ch)',\n",
       "  '#列表推导式\\nvec = [[1,2,3],[4,5,6],[7,8,9]]\\n[ch for k in vec for ch in k]',\n",
       "  'a = (3)\\na',\n",
       "  'a = (3,)\\na',\n",
       "  'a = (3)\\na',\n",
       "  '#序列解包\\n*[1]',\n",
       "  '#序列解包\\nprint(*[1])',\n",
       "  \"#序列解包\\nprint(*[1])\\nprint(**{'A':2})\",\n",
       "  \"#序列解包\\nprint(*[1])\\nprint(**{'a':2})\",\n",
       "  \"#序列解包\\nprint(*[1])\\nprint(*{'a':2})\",\n",
       "  \"#序列解包\\nprint(*[1])\\nprint(**{'a':2,'b':3})\",\n",
       "  \"#序列解包\\nprint(*[1])\\nprint(*{'a':2,'b':3})\",\n",
       "  'globals',\n",
       "  'globals（）',\n",
       "  'globals()'],\n",
       " '_oh': {1: [10, 9, 8, 7, 6, 5, 4, 3],\n",
       "  3: [10, 9, 8, 7, 6, 5, 4, 3],\n",
       "  4: [10, 9, 8, 7, 6, 5, 4, 3],\n",
       "  6: [3, 4, 5, 6, 7, 8, 9, 10],\n",
       "  8: [89, 60, 82, 92, 74, 79, 58, 72, 63, 75],\n",
       "  9: [89, 60, 82, 92, 74, 79, 58, 72, 63, 75],\n",
       "  10: <list_reverseiterator at 0x1a64ad99e80>,\n",
       "  11: [75, 63, 72, 58, 79, 74, 92, 82, 60, 89],\n",
       "  12: 744,\n",
       "  13: '65',\n",
       "  14: False,\n",
       "  16: <zip at 0x1a64aa3ce88>,\n",
       "  17: zip,\n",
       "  18: [(11, 12), (10, 17), (11, 18), (13, 19), (10, 16)],\n",
       "  24: <zip at 0x1a64aa1d0c8>,\n",
       "  25: [],\n",
       "  33: [1, 2, 3, 4, 5, 6, 7, 8, 9],\n",
       "  34: 3,\n",
       "  35: (3,),\n",
       "  36: 3,\n",
       "  44: <function globals()>},\n",
       " '_dh': ['E:\\\\pythoncode'],\n",
       " 'In': ['',\n",
       "  'aList = [3,4,5,6,7,8,9,10]\\nimport random\\nrandom.shuffle(aList)\\naList',\n",
       "  'aList.sort()',\n",
       "  'aList',\n",
       "  'aList.sort(reverse=True)\\naList',\n",
       "  'sorter(aList)#返回的是一个列表',\n",
       "  'sorted(aList)#返回的是一个列表',\n",
       "  'aList = [random.randint(50,100) for i in range(10)]',\n",
       "  'aList',\n",
       "  'aList.reverse()#原地逆序\\naList',\n",
       "  'reversed(aList)#返回的是一个新的列表',\n",
       "  'list(reversed(aList))#将其列表化',\n",
       "  'sum(list(reversed(aList)))',\n",
       "  'str(65)',\n",
       "  \"65 is 'A'\",\n",
       "  'List_a = [random.randint(10,20) for i in range(5)]\\nList_b = [random.randint(10,20) for i in range(5)]\\nList_c = zip(List_a,List_b)',\n",
       "  'List_a = [random.randint(10,20) for i in range(5)]\\nList_b = [random.randint(10,20) for i in range(5)]\\nList_c = zip(List_a,List_b)\\nList_c',\n",
       "  'List_a = [random.randint(10,20) for i in range(5)]\\nList_b = [random.randint(10,20) for i in range(5)]\\nList_c = zip(List_a,List_b)\\ntype(List_c)',\n",
       "  'List_a = [random.randint(10,20) for i in range(5)]\\nList_b = [random.randint(10,20) for i in range(5)]\\nList_c = zip(List_a,List_b)\\nlist(List_c)',\n",
       "  'for item in enumerate(List_c):\\n    print(item)',\n",
       "  'for item in enumerate(List_c):\\n    print(item)',\n",
       "  'for item in enumerate(list(List_c)):\\n    print(item)',\n",
       "  'for item in enumerate(list(List_c)):\\n    print(item)',\n",
       "  'print(list(List_c))\\nfor item in enumerate(list(List_c)):\\n    print(item)',\n",
       "  'List_c',\n",
       "  'list(List_c)',\n",
       "  'List_a = [random.randint(10,20) for i in range(5)]\\nList_b = [random.randint(10,20) for i in range(5)]\\nList_c = zip(List_a,List_b)\\nfor item in enumerate(list(List_c)):\\n    print(item)',\n",
       "  'List_a = [random.randint(10,20) for i in range(5)]\\nList_b = [random.randint(10,20) for i in range(5)]\\nList_c = zip(List_a,List_b)\\nfor item in enumerate(list(List_c)):\\n    print(item)\\nfor index,ch in enumerate(list(List_c)):\\n    print(index,ch)',\n",
       "  'List_a = [random.randint(10,20) for i in range(5)]\\nList_b = [random.randint(10,20) for i in range(5)]\\nList_c = zip(List_a,List_b)\\nfor item in enumerate(list(List_c)):\\n    print(item)\\nfor index,ch in enumerate(list(List_c)):\\n    print(index,ch)',\n",
       "  'List_a = [random.randint(10,20) for i in range(5)]\\nList_b = [random.randint(10,20) for i in range(5)]\\nList_c = zip(List_a,List_b)\\n##print(item)\\nfor index,ch in enumerate(list(List_c)):\\n    print(index,ch)',\n",
       "  'List_a = [random.randint(10,20) for i in range(5)]\\nList_b = [random.randint(10,20) for i in range(5)]\\nList_c = zip(List_a,List_b)\\n##print(item)\\nfor index,ch in enumerate(list(List_c)):\\n    print(index,ch)',\n",
       "  'List_a = [random.randint(10,20) for i in range(5)]\\nList_b = [random.randint(10,20) for i in range(5)]\\nList_c = zip(List_a,List_b)\\nfor item in enumerate(list(List_c)):\\n    print(item)',\n",
       "  'List_a = [random.randint(10,20) for i in range(5)]\\nList_b = [random.randint(10,20) for i in range(5)]\\nList_c = zip(List_a,List_b)\\n##print(item)\\nfor index,ch in enumerate(list(List_c)):\\n    print(index,ch)',\n",
       "  '#列表推导式\\nvec = [[1,2,3],[4,5,6],[7,8,9]]\\n[ch for k in vec for ch in k]',\n",
       "  'a = (3)\\na',\n",
       "  'a = (3,)\\na',\n",
       "  'a = (3)\\na',\n",
       "  '#序列解包\\n*[1]',\n",
       "  '#序列解包\\nprint(*[1])',\n",
       "  \"#序列解包\\nprint(*[1])\\nprint(**{'A':2})\",\n",
       "  \"#序列解包\\nprint(*[1])\\nprint(**{'a':2})\",\n",
       "  \"#序列解包\\nprint(*[1])\\nprint(*{'a':2})\",\n",
       "  \"#序列解包\\nprint(*[1])\\nprint(**{'a':2,'b':3})\",\n",
       "  \"#序列解包\\nprint(*[1])\\nprint(*{'a':2,'b':3})\",\n",
       "  'globals',\n",
       "  'globals（）',\n",
       "  'globals()'],\n",
       " 'Out': {1: [10, 9, 8, 7, 6, 5, 4, 3],\n",
       "  3: [10, 9, 8, 7, 6, 5, 4, 3],\n",
       "  4: [10, 9, 8, 7, 6, 5, 4, 3],\n",
       "  6: [3, 4, 5, 6, 7, 8, 9, 10],\n",
       "  8: [89, 60, 82, 92, 74, 79, 58, 72, 63, 75],\n",
       "  9: [89, 60, 82, 92, 74, 79, 58, 72, 63, 75],\n",
       "  10: <list_reverseiterator at 0x1a64ad99e80>,\n",
       "  11: [75, 63, 72, 58, 79, 74, 92, 82, 60, 89],\n",
       "  12: 744,\n",
       "  13: '65',\n",
       "  14: False,\n",
       "  16: <zip at 0x1a64aa3ce88>,\n",
       "  17: zip,\n",
       "  18: [(11, 12), (10, 17), (11, 18), (13, 19), (10, 16)],\n",
       "  24: <zip at 0x1a64aa1d0c8>,\n",
       "  25: [],\n",
       "  33: [1, 2, 3, 4, 5, 6, 7, 8, 9],\n",
       "  34: 3,\n",
       "  35: (3,),\n",
       "  36: 3,\n",
       "  44: <function globals()>},\n",
       " 'get_ipython': <bound method InteractiveShell.get_ipython of <ipykernel.zmqshell.ZMQInteractiveShell object at 0x000001A648E995C0>>,\n",
       " 'exit': <IPython.core.autocall.ZMQExitAutocall at 0x1a64a314b38>,\n",
       " 'quit': <IPython.core.autocall.ZMQExitAutocall at 0x1a64a314b38>,\n",
       " '_': <function globals()>,\n",
       " '__': 3,\n",
       " '___': (3,),\n",
       " '_i': 'globals（）',\n",
       " '_ii': 'globals',\n",
       " '_iii': \"#序列解包\\nprint(*[1])\\nprint(*{'a':2,'b':3})\",\n",
       " '_i1': 'aList = [3,4,5,6,7,8,9,10]\\nimport random\\nrandom.shuffle(aList)\\naList',\n",
       " 'aList': [89, 60, 82, 92, 74, 79, 58, 72, 63, 75],\n",
       " 'random': <module 'random' from 'D:\\\\anaconda\\\\lib\\\\random.py'>,\n",
       " '_1': [10, 9, 8, 7, 6, 5, 4, 3],\n",
       " '_i2': 'aList.sort()',\n",
       " '_i3': 'aList',\n",
       " '_3': [10, 9, 8, 7, 6, 5, 4, 3],\n",
       " '_i4': 'aList.sort(reverse=True)\\naList',\n",
       " '_4': [10, 9, 8, 7, 6, 5, 4, 3],\n",
       " '_i5': 'sorter(aList)#返回的是一个列表',\n",
       " '_i6': 'sorted(aList)#返回的是一个列表',\n",
       " '_6': [3, 4, 5, 6, 7, 8, 9, 10],\n",
       " '_i7': 'aList = [random.randint(50,100) for i in range(10)]',\n",
       " '_i8': 'aList',\n",
       " '_8': [89, 60, 82, 92, 74, 79, 58, 72, 63, 75],\n",
       " '_i9': 'aList.reverse()#原地逆序\\naList',\n",
       " '_9': [89, 60, 82, 92, 74, 79, 58, 72, 63, 75],\n",
       " '_i10': 'reversed(aList)#返回的是一个新的列表',\n",
       " '_10': <list_reverseiterator at 0x1a64ad99e80>,\n",
       " '_i11': 'list(reversed(aList))#将其列表化',\n",
       " '_11': [75, 63, 72, 58, 79, 74, 92, 82, 60, 89],\n",
       " '_i12': 'sum(list(reversed(aList)))',\n",
       " '_12': 744,\n",
       " '_i13': 'str(65)',\n",
       " '_13': '65',\n",
       " '_i14': \"65 is 'A'\",\n",
       " '_14': False,\n",
       " '_i15': 'List_a = [random.randint(10,20) for i in range(5)]\\nList_b = [random.randint(10,20) for i in range(5)]\\nList_c = zip(List_a,List_b)',\n",
       " 'List_a': [14, 17, 16, 11, 14],\n",
       " 'List_b': [13, 17, 14, 15, 19],\n",
       " 'List_c': <zip at 0x1a64a8e4dc8>,\n",
       " '_i16': 'List_a = [random.randint(10,20) for i in range(5)]\\nList_b = [random.randint(10,20) for i in range(5)]\\nList_c = zip(List_a,List_b)\\nList_c',\n",
       " '_16': <zip at 0x1a64aa3ce88>,\n",
       " '_i17': 'List_a = [random.randint(10,20) for i in range(5)]\\nList_b = [random.randint(10,20) for i in range(5)]\\nList_c = zip(List_a,List_b)\\ntype(List_c)',\n",
       " '_17': zip,\n",
       " '_i18': 'List_a = [random.randint(10,20) for i in range(5)]\\nList_b = [random.randint(10,20) for i in range(5)]\\nList_c = zip(List_a,List_b)\\nlist(List_c)',\n",
       " '_18': [(11, 12), (10, 17), (11, 18), (13, 19), (10, 16)],\n",
       " '_i19': 'for item in enumerate(List_c):\\n    print(item)',\n",
       " '_i20': 'for item in enumerate(List_c):\\n    print(item)',\n",
       " '_i21': 'for item in enumerate(list(List_c)):\\n    print(item)',\n",
       " '_i22': 'for item in enumerate(list(List_c)):\\n    print(item)',\n",
       " '_i23': 'print(list(List_c))\\nfor item in enumerate(list(List_c)):\\n    print(item)',\n",
       " '_i24': 'List_c',\n",
       " '_24': <zip at 0x1a64aa1d0c8>,\n",
       " '_i25': 'list(List_c)',\n",
       " '_25': [],\n",
       " '_i26': 'List_a = [random.randint(10,20) for i in range(5)]\\nList_b = [random.randint(10,20) for i in range(5)]\\nList_c = zip(List_a,List_b)\\nfor item in enumerate(list(List_c)):\\n    print(item)',\n",
       " 'item': (4, (14, 10)),\n",
       " '_i27': 'List_a = [random.randint(10,20) for i in range(5)]\\nList_b = [random.randint(10,20) for i in range(5)]\\nList_c = zip(List_a,List_b)\\nfor item in enumerate(list(List_c)):\\n    print(item)\\nfor index,ch in enumerate(list(List_c)):\\n    print(index,ch)',\n",
       " '_i28': 'List_a = [random.randint(10,20) for i in range(5)]\\nList_b = [random.randint(10,20) for i in range(5)]\\nList_c = zip(List_a,List_b)\\nfor item in enumerate(list(List_c)):\\n    print(item)\\nfor index,ch in enumerate(list(List_c)):\\n    print(index,ch)',\n",
       " '_i29': 'List_a = [random.randint(10,20) for i in range(5)]\\nList_b = [random.randint(10,20) for i in range(5)]\\nList_c = zip(List_a,List_b)\\n##print(item)\\nfor index,ch in enumerate(list(List_c)):\\n    print(index,ch)',\n",
       " 'index': 4,\n",
       " 'ch': (14, 19),\n",
       " '_i30': 'List_a = [random.randint(10,20) for i in range(5)]\\nList_b = [random.randint(10,20) for i in range(5)]\\nList_c = zip(List_a,List_b)\\n##print(item)\\nfor index,ch in enumerate(list(List_c)):\\n    print(index,ch)',\n",
       " '_i31': 'List_a = [random.randint(10,20) for i in range(5)]\\nList_b = [random.randint(10,20) for i in range(5)]\\nList_c = zip(List_a,List_b)\\nfor item in enumerate(list(List_c)):\\n    print(item)',\n",
       " '_i32': 'List_a = [random.randint(10,20) for i in range(5)]\\nList_b = [random.randint(10,20) for i in range(5)]\\nList_c = zip(List_a,List_b)\\n##print(item)\\nfor index,ch in enumerate(list(List_c)):\\n    print(index,ch)',\n",
       " '_i33': '#列表推导式\\nvec = [[1,2,3],[4,5,6],[7,8,9]]\\n[ch for k in vec for ch in k]',\n",
       " 'vec': [[1, 2, 3], [4, 5, 6], [7, 8, 9]],\n",
       " '_33': [1, 2, 3, 4, 5, 6, 7, 8, 9],\n",
       " '_i34': 'a = (3)\\na',\n",
       " 'a': 3,\n",
       " '_34': 3,\n",
       " '_i35': 'a = (3,)\\na',\n",
       " '_35': (3,),\n",
       " '_i36': 'a = (3)\\na',\n",
       " '_36': 3,\n",
       " '_i37': '#序列解包\\n*[1]',\n",
       " '_i38': '#序列解包\\nprint(*[1])',\n",
       " '_i39': \"#序列解包\\nprint(*[1])\\nprint(**{'A':2})\",\n",
       " '_i40': \"#序列解包\\nprint(*[1])\\nprint(**{'a':2})\",\n",
       " '_i41': \"#序列解包\\nprint(*[1])\\nprint(*{'a':2})\",\n",
       " '_i42': \"#序列解包\\nprint(*[1])\\nprint(**{'a':2,'b':3})\",\n",
       " '_i43': \"#序列解包\\nprint(*[1])\\nprint(*{'a':2,'b':3})\",\n",
       " '_i44': 'globals',\n",
       " '_44': <function globals()>,\n",
       " '_i45': 'globals（）',\n",
       " '_i46': 'globals()'}"
      ]
     },
     "execution_count": 46,
     "metadata": {},
     "output_type": "execute_result"
    }
   ],
   "source": [
    "globals()"
   ]
  },
  {
   "cell_type": "code",
   "execution_count": 47,
   "metadata": {},
   "outputs": [
    {
     "data": {
      "text/plain": [
       "{'__name__': '__main__',\n",
       " '__doc__': 'Automatically created module for IPython interactive environment',\n",
       " '__package__': None,\n",
       " '__loader__': None,\n",
       " '__spec__': None,\n",
       " '__builtin__': <module 'builtins' (built-in)>,\n",
       " '__builtins__': <module 'builtins' (built-in)>,\n",
       " '_ih': ['',\n",
       "  'aList = [3,4,5,6,7,8,9,10]\\nimport random\\nrandom.shuffle(aList)\\naList',\n",
       "  'aList.sort()',\n",
       "  'aList',\n",
       "  'aList.sort(reverse=True)\\naList',\n",
       "  'sorter(aList)#返回的是一个列表',\n",
       "  'sorted(aList)#返回的是一个列表',\n",
       "  'aList = [random.randint(50,100) for i in range(10)]',\n",
       "  'aList',\n",
       "  'aList.reverse()#原地逆序\\naList',\n",
       "  'reversed(aList)#返回的是一个新的列表',\n",
       "  'list(reversed(aList))#将其列表化',\n",
       "  'sum(list(reversed(aList)))',\n",
       "  'str(65)',\n",
       "  \"65 is 'A'\",\n",
       "  'List_a = [random.randint(10,20) for i in range(5)]\\nList_b = [random.randint(10,20) for i in range(5)]\\nList_c = zip(List_a,List_b)',\n",
       "  'List_a = [random.randint(10,20) for i in range(5)]\\nList_b = [random.randint(10,20) for i in range(5)]\\nList_c = zip(List_a,List_b)\\nList_c',\n",
       "  'List_a = [random.randint(10,20) for i in range(5)]\\nList_b = [random.randint(10,20) for i in range(5)]\\nList_c = zip(List_a,List_b)\\ntype(List_c)',\n",
       "  'List_a = [random.randint(10,20) for i in range(5)]\\nList_b = [random.randint(10,20) for i in range(5)]\\nList_c = zip(List_a,List_b)\\nlist(List_c)',\n",
       "  'for item in enumerate(List_c):\\n    print(item)',\n",
       "  'for item in enumerate(List_c):\\n    print(item)',\n",
       "  'for item in enumerate(list(List_c)):\\n    print(item)',\n",
       "  'for item in enumerate(list(List_c)):\\n    print(item)',\n",
       "  'print(list(List_c))\\nfor item in enumerate(list(List_c)):\\n    print(item)',\n",
       "  'List_c',\n",
       "  'list(List_c)',\n",
       "  'List_a = [random.randint(10,20) for i in range(5)]\\nList_b = [random.randint(10,20) for i in range(5)]\\nList_c = zip(List_a,List_b)\\nfor item in enumerate(list(List_c)):\\n    print(item)',\n",
       "  'List_a = [random.randint(10,20) for i in range(5)]\\nList_b = [random.randint(10,20) for i in range(5)]\\nList_c = zip(List_a,List_b)\\nfor item in enumerate(list(List_c)):\\n    print(item)\\nfor index,ch in enumerate(list(List_c)):\\n    print(index,ch)',\n",
       "  'List_a = [random.randint(10,20) for i in range(5)]\\nList_b = [random.randint(10,20) for i in range(5)]\\nList_c = zip(List_a,List_b)\\nfor item in enumerate(list(List_c)):\\n    print(item)\\nfor index,ch in enumerate(list(List_c)):\\n    print(index,ch)',\n",
       "  'List_a = [random.randint(10,20) for i in range(5)]\\nList_b = [random.randint(10,20) for i in range(5)]\\nList_c = zip(List_a,List_b)\\n##print(item)\\nfor index,ch in enumerate(list(List_c)):\\n    print(index,ch)',\n",
       "  'List_a = [random.randint(10,20) for i in range(5)]\\nList_b = [random.randint(10,20) for i in range(5)]\\nList_c = zip(List_a,List_b)\\n##print(item)\\nfor index,ch in enumerate(list(List_c)):\\n    print(index,ch)',\n",
       "  'List_a = [random.randint(10,20) for i in range(5)]\\nList_b = [random.randint(10,20) for i in range(5)]\\nList_c = zip(List_a,List_b)\\nfor item in enumerate(list(List_c)):\\n    print(item)',\n",
       "  'List_a = [random.randint(10,20) for i in range(5)]\\nList_b = [random.randint(10,20) for i in range(5)]\\nList_c = zip(List_a,List_b)\\n##print(item)\\nfor index,ch in enumerate(list(List_c)):\\n    print(index,ch)',\n",
       "  '#列表推导式\\nvec = [[1,2,3],[4,5,6],[7,8,9]]\\n[ch for k in vec for ch in k]',\n",
       "  'a = (3)\\na',\n",
       "  'a = (3,)\\na',\n",
       "  'a = (3)\\na',\n",
       "  '#序列解包\\n*[1]',\n",
       "  '#序列解包\\nprint(*[1])',\n",
       "  \"#序列解包\\nprint(*[1])\\nprint(**{'A':2})\",\n",
       "  \"#序列解包\\nprint(*[1])\\nprint(**{'a':2})\",\n",
       "  \"#序列解包\\nprint(*[1])\\nprint(*{'a':2})\",\n",
       "  \"#序列解包\\nprint(*[1])\\nprint(**{'a':2,'b':3})\",\n",
       "  \"#序列解包\\nprint(*[1])\\nprint(*{'a':2,'b':3})\",\n",
       "  'globals',\n",
       "  'globals（）',\n",
       "  'globals()',\n",
       "  'locals()'],\n",
       " '_oh': {1: [10, 9, 8, 7, 6, 5, 4, 3],\n",
       "  3: [10, 9, 8, 7, 6, 5, 4, 3],\n",
       "  4: [10, 9, 8, 7, 6, 5, 4, 3],\n",
       "  6: [3, 4, 5, 6, 7, 8, 9, 10],\n",
       "  8: [89, 60, 82, 92, 74, 79, 58, 72, 63, 75],\n",
       "  9: [89, 60, 82, 92, 74, 79, 58, 72, 63, 75],\n",
       "  10: <list_reverseiterator at 0x1a64ad99e80>,\n",
       "  11: [75, 63, 72, 58, 79, 74, 92, 82, 60, 89],\n",
       "  12: 744,\n",
       "  13: '65',\n",
       "  14: False,\n",
       "  16: <zip at 0x1a64aa3ce88>,\n",
       "  17: zip,\n",
       "  18: [(11, 12), (10, 17), (11, 18), (13, 19), (10, 16)],\n",
       "  24: <zip at 0x1a64aa1d0c8>,\n",
       "  25: [],\n",
       "  33: [1, 2, 3, 4, 5, 6, 7, 8, 9],\n",
       "  34: 3,\n",
       "  35: (3,),\n",
       "  36: 3,\n",
       "  44: <function globals()>,\n",
       "  46: {...}},\n",
       " '_dh': ['E:\\\\pythoncode'],\n",
       " 'In': ['',\n",
       "  'aList = [3,4,5,6,7,8,9,10]\\nimport random\\nrandom.shuffle(aList)\\naList',\n",
       "  'aList.sort()',\n",
       "  'aList',\n",
       "  'aList.sort(reverse=True)\\naList',\n",
       "  'sorter(aList)#返回的是一个列表',\n",
       "  'sorted(aList)#返回的是一个列表',\n",
       "  'aList = [random.randint(50,100) for i in range(10)]',\n",
       "  'aList',\n",
       "  'aList.reverse()#原地逆序\\naList',\n",
       "  'reversed(aList)#返回的是一个新的列表',\n",
       "  'list(reversed(aList))#将其列表化',\n",
       "  'sum(list(reversed(aList)))',\n",
       "  'str(65)',\n",
       "  \"65 is 'A'\",\n",
       "  'List_a = [random.randint(10,20) for i in range(5)]\\nList_b = [random.randint(10,20) for i in range(5)]\\nList_c = zip(List_a,List_b)',\n",
       "  'List_a = [random.randint(10,20) for i in range(5)]\\nList_b = [random.randint(10,20) for i in range(5)]\\nList_c = zip(List_a,List_b)\\nList_c',\n",
       "  'List_a = [random.randint(10,20) for i in range(5)]\\nList_b = [random.randint(10,20) for i in range(5)]\\nList_c = zip(List_a,List_b)\\ntype(List_c)',\n",
       "  'List_a = [random.randint(10,20) for i in range(5)]\\nList_b = [random.randint(10,20) for i in range(5)]\\nList_c = zip(List_a,List_b)\\nlist(List_c)',\n",
       "  'for item in enumerate(List_c):\\n    print(item)',\n",
       "  'for item in enumerate(List_c):\\n    print(item)',\n",
       "  'for item in enumerate(list(List_c)):\\n    print(item)',\n",
       "  'for item in enumerate(list(List_c)):\\n    print(item)',\n",
       "  'print(list(List_c))\\nfor item in enumerate(list(List_c)):\\n    print(item)',\n",
       "  'List_c',\n",
       "  'list(List_c)',\n",
       "  'List_a = [random.randint(10,20) for i in range(5)]\\nList_b = [random.randint(10,20) for i in range(5)]\\nList_c = zip(List_a,List_b)\\nfor item in enumerate(list(List_c)):\\n    print(item)',\n",
       "  'List_a = [random.randint(10,20) for i in range(5)]\\nList_b = [random.randint(10,20) for i in range(5)]\\nList_c = zip(List_a,List_b)\\nfor item in enumerate(list(List_c)):\\n    print(item)\\nfor index,ch in enumerate(list(List_c)):\\n    print(index,ch)',\n",
       "  'List_a = [random.randint(10,20) for i in range(5)]\\nList_b = [random.randint(10,20) for i in range(5)]\\nList_c = zip(List_a,List_b)\\nfor item in enumerate(list(List_c)):\\n    print(item)\\nfor index,ch in enumerate(list(List_c)):\\n    print(index,ch)',\n",
       "  'List_a = [random.randint(10,20) for i in range(5)]\\nList_b = [random.randint(10,20) for i in range(5)]\\nList_c = zip(List_a,List_b)\\n##print(item)\\nfor index,ch in enumerate(list(List_c)):\\n    print(index,ch)',\n",
       "  'List_a = [random.randint(10,20) for i in range(5)]\\nList_b = [random.randint(10,20) for i in range(5)]\\nList_c = zip(List_a,List_b)\\n##print(item)\\nfor index,ch in enumerate(list(List_c)):\\n    print(index,ch)',\n",
       "  'List_a = [random.randint(10,20) for i in range(5)]\\nList_b = [random.randint(10,20) for i in range(5)]\\nList_c = zip(List_a,List_b)\\nfor item in enumerate(list(List_c)):\\n    print(item)',\n",
       "  'List_a = [random.randint(10,20) for i in range(5)]\\nList_b = [random.randint(10,20) for i in range(5)]\\nList_c = zip(List_a,List_b)\\n##print(item)\\nfor index,ch in enumerate(list(List_c)):\\n    print(index,ch)',\n",
       "  '#列表推导式\\nvec = [[1,2,3],[4,5,6],[7,8,9]]\\n[ch for k in vec for ch in k]',\n",
       "  'a = (3)\\na',\n",
       "  'a = (3,)\\na',\n",
       "  'a = (3)\\na',\n",
       "  '#序列解包\\n*[1]',\n",
       "  '#序列解包\\nprint(*[1])',\n",
       "  \"#序列解包\\nprint(*[1])\\nprint(**{'A':2})\",\n",
       "  \"#序列解包\\nprint(*[1])\\nprint(**{'a':2})\",\n",
       "  \"#序列解包\\nprint(*[1])\\nprint(*{'a':2})\",\n",
       "  \"#序列解包\\nprint(*[1])\\nprint(**{'a':2,'b':3})\",\n",
       "  \"#序列解包\\nprint(*[1])\\nprint(*{'a':2,'b':3})\",\n",
       "  'globals',\n",
       "  'globals（）',\n",
       "  'globals()',\n",
       "  'locals()'],\n",
       " 'Out': {1: [10, 9, 8, 7, 6, 5, 4, 3],\n",
       "  3: [10, 9, 8, 7, 6, 5, 4, 3],\n",
       "  4: [10, 9, 8, 7, 6, 5, 4, 3],\n",
       "  6: [3, 4, 5, 6, 7, 8, 9, 10],\n",
       "  8: [89, 60, 82, 92, 74, 79, 58, 72, 63, 75],\n",
       "  9: [89, 60, 82, 92, 74, 79, 58, 72, 63, 75],\n",
       "  10: <list_reverseiterator at 0x1a64ad99e80>,\n",
       "  11: [75, 63, 72, 58, 79, 74, 92, 82, 60, 89],\n",
       "  12: 744,\n",
       "  13: '65',\n",
       "  14: False,\n",
       "  16: <zip at 0x1a64aa3ce88>,\n",
       "  17: zip,\n",
       "  18: [(11, 12), (10, 17), (11, 18), (13, 19), (10, 16)],\n",
       "  24: <zip at 0x1a64aa1d0c8>,\n",
       "  25: [],\n",
       "  33: [1, 2, 3, 4, 5, 6, 7, 8, 9],\n",
       "  34: 3,\n",
       "  35: (3,),\n",
       "  36: 3,\n",
       "  44: <function globals()>,\n",
       "  46: {...}},\n",
       " 'get_ipython': <bound method InteractiveShell.get_ipython of <ipykernel.zmqshell.ZMQInteractiveShell object at 0x000001A648E995C0>>,\n",
       " 'exit': <IPython.core.autocall.ZMQExitAutocall at 0x1a64a314b38>,\n",
       " 'quit': <IPython.core.autocall.ZMQExitAutocall at 0x1a64a314b38>,\n",
       " '_': {...},\n",
       " '__': <function globals()>,\n",
       " '___': 3,\n",
       " '_i': 'globals()',\n",
       " '_ii': 'globals（）',\n",
       " '_iii': 'globals',\n",
       " '_i1': 'aList = [3,4,5,6,7,8,9,10]\\nimport random\\nrandom.shuffle(aList)\\naList',\n",
       " 'aList': [89, 60, 82, 92, 74, 79, 58, 72, 63, 75],\n",
       " 'random': <module 'random' from 'D:\\\\anaconda\\\\lib\\\\random.py'>,\n",
       " '_1': [10, 9, 8, 7, 6, 5, 4, 3],\n",
       " '_i2': 'aList.sort()',\n",
       " '_i3': 'aList',\n",
       " '_3': [10, 9, 8, 7, 6, 5, 4, 3],\n",
       " '_i4': 'aList.sort(reverse=True)\\naList',\n",
       " '_4': [10, 9, 8, 7, 6, 5, 4, 3],\n",
       " '_i5': 'sorter(aList)#返回的是一个列表',\n",
       " '_i6': 'sorted(aList)#返回的是一个列表',\n",
       " '_6': [3, 4, 5, 6, 7, 8, 9, 10],\n",
       " '_i7': 'aList = [random.randint(50,100) for i in range(10)]',\n",
       " '_i8': 'aList',\n",
       " '_8': [89, 60, 82, 92, 74, 79, 58, 72, 63, 75],\n",
       " '_i9': 'aList.reverse()#原地逆序\\naList',\n",
       " '_9': [89, 60, 82, 92, 74, 79, 58, 72, 63, 75],\n",
       " '_i10': 'reversed(aList)#返回的是一个新的列表',\n",
       " '_10': <list_reverseiterator at 0x1a64ad99e80>,\n",
       " '_i11': 'list(reversed(aList))#将其列表化',\n",
       " '_11': [75, 63, 72, 58, 79, 74, 92, 82, 60, 89],\n",
       " '_i12': 'sum(list(reversed(aList)))',\n",
       " '_12': 744,\n",
       " '_i13': 'str(65)',\n",
       " '_13': '65',\n",
       " '_i14': \"65 is 'A'\",\n",
       " '_14': False,\n",
       " '_i15': 'List_a = [random.randint(10,20) for i in range(5)]\\nList_b = [random.randint(10,20) for i in range(5)]\\nList_c = zip(List_a,List_b)',\n",
       " 'List_a': [14, 17, 16, 11, 14],\n",
       " 'List_b': [13, 17, 14, 15, 19],\n",
       " 'List_c': <zip at 0x1a64a8e4dc8>,\n",
       " '_i16': 'List_a = [random.randint(10,20) for i in range(5)]\\nList_b = [random.randint(10,20) for i in range(5)]\\nList_c = zip(List_a,List_b)\\nList_c',\n",
       " '_16': <zip at 0x1a64aa3ce88>,\n",
       " '_i17': 'List_a = [random.randint(10,20) for i in range(5)]\\nList_b = [random.randint(10,20) for i in range(5)]\\nList_c = zip(List_a,List_b)\\ntype(List_c)',\n",
       " '_17': zip,\n",
       " '_i18': 'List_a = [random.randint(10,20) for i in range(5)]\\nList_b = [random.randint(10,20) for i in range(5)]\\nList_c = zip(List_a,List_b)\\nlist(List_c)',\n",
       " '_18': [(11, 12), (10, 17), (11, 18), (13, 19), (10, 16)],\n",
       " '_i19': 'for item in enumerate(List_c):\\n    print(item)',\n",
       " '_i20': 'for item in enumerate(List_c):\\n    print(item)',\n",
       " '_i21': 'for item in enumerate(list(List_c)):\\n    print(item)',\n",
       " '_i22': 'for item in enumerate(list(List_c)):\\n    print(item)',\n",
       " '_i23': 'print(list(List_c))\\nfor item in enumerate(list(List_c)):\\n    print(item)',\n",
       " '_i24': 'List_c',\n",
       " '_24': <zip at 0x1a64aa1d0c8>,\n",
       " '_i25': 'list(List_c)',\n",
       " '_25': [],\n",
       " '_i26': 'List_a = [random.randint(10,20) for i in range(5)]\\nList_b = [random.randint(10,20) for i in range(5)]\\nList_c = zip(List_a,List_b)\\nfor item in enumerate(list(List_c)):\\n    print(item)',\n",
       " 'item': (4, (14, 10)),\n",
       " '_i27': 'List_a = [random.randint(10,20) for i in range(5)]\\nList_b = [random.randint(10,20) for i in range(5)]\\nList_c = zip(List_a,List_b)\\nfor item in enumerate(list(List_c)):\\n    print(item)\\nfor index,ch in enumerate(list(List_c)):\\n    print(index,ch)',\n",
       " '_i28': 'List_a = [random.randint(10,20) for i in range(5)]\\nList_b = [random.randint(10,20) for i in range(5)]\\nList_c = zip(List_a,List_b)\\nfor item in enumerate(list(List_c)):\\n    print(item)\\nfor index,ch in enumerate(list(List_c)):\\n    print(index,ch)',\n",
       " '_i29': 'List_a = [random.randint(10,20) for i in range(5)]\\nList_b = [random.randint(10,20) for i in range(5)]\\nList_c = zip(List_a,List_b)\\n##print(item)\\nfor index,ch in enumerate(list(List_c)):\\n    print(index,ch)',\n",
       " 'index': 4,\n",
       " 'ch': (14, 19),\n",
       " '_i30': 'List_a = [random.randint(10,20) for i in range(5)]\\nList_b = [random.randint(10,20) for i in range(5)]\\nList_c = zip(List_a,List_b)\\n##print(item)\\nfor index,ch in enumerate(list(List_c)):\\n    print(index,ch)',\n",
       " '_i31': 'List_a = [random.randint(10,20) for i in range(5)]\\nList_b = [random.randint(10,20) for i in range(5)]\\nList_c = zip(List_a,List_b)\\nfor item in enumerate(list(List_c)):\\n    print(item)',\n",
       " '_i32': 'List_a = [random.randint(10,20) for i in range(5)]\\nList_b = [random.randint(10,20) for i in range(5)]\\nList_c = zip(List_a,List_b)\\n##print(item)\\nfor index,ch in enumerate(list(List_c)):\\n    print(index,ch)',\n",
       " '_i33': '#列表推导式\\nvec = [[1,2,3],[4,5,6],[7,8,9]]\\n[ch for k in vec for ch in k]',\n",
       " 'vec': [[1, 2, 3], [4, 5, 6], [7, 8, 9]],\n",
       " '_33': [1, 2, 3, 4, 5, 6, 7, 8, 9],\n",
       " '_i34': 'a = (3)\\na',\n",
       " 'a': 3,\n",
       " '_34': 3,\n",
       " '_i35': 'a = (3,)\\na',\n",
       " '_35': (3,),\n",
       " '_i36': 'a = (3)\\na',\n",
       " '_36': 3,\n",
       " '_i37': '#序列解包\\n*[1]',\n",
       " '_i38': '#序列解包\\nprint(*[1])',\n",
       " '_i39': \"#序列解包\\nprint(*[1])\\nprint(**{'A':2})\",\n",
       " '_i40': \"#序列解包\\nprint(*[1])\\nprint(**{'a':2})\",\n",
       " '_i41': \"#序列解包\\nprint(*[1])\\nprint(*{'a':2})\",\n",
       " '_i42': \"#序列解包\\nprint(*[1])\\nprint(**{'a':2,'b':3})\",\n",
       " '_i43': \"#序列解包\\nprint(*[1])\\nprint(*{'a':2,'b':3})\",\n",
       " '_i44': 'globals',\n",
       " '_44': <function globals()>,\n",
       " '_i45': 'globals（）',\n",
       " '_i46': 'globals()',\n",
       " '_46': {...},\n",
       " '_i47': 'locals()'}"
      ]
     },
     "execution_count": 47,
     "metadata": {},
     "output_type": "execute_result"
    }
   ],
   "source": [
    "locals()"
   ]
  },
  {
   "cell_type": "code",
   "execution_count": 55,
   "metadata": {},
   "outputs": [
    {
     "name": "stdout",
     "output_type": "stream",
     "text": [
      "('a', 1)\n",
      "('b', 2)\n",
      "('c', 3)\n",
      "('d', 4)\n"
     ]
    }
   ],
   "source": [
    "keys = ['a','b','c','d']\n",
    "values = [1,2,3,4]\n",
    "demo = dict(zip(keys,values))\n",
    "#demo.get('a')\n",
    "for item in demo.items():\n",
    "    print(item)"
   ]
  },
  {
   "cell_type": "code",
   "execution_count": 59,
   "metadata": {},
   "outputs": [
    {
     "data": {
      "text/plain": [
       "{'a': 1, 'b': 2, 'c': 3, 'd': 4, 'e': 5, 'f': 6}"
      ]
     },
     "execution_count": 59,
     "metadata": {},
     "output_type": "execute_result"
    }
   ],
   "source": [
    "demo.update({'e':5,'f':6})\n",
    "demo"
   ]
  },
  {
   "cell_type": "code",
   "execution_count": 67,
   "metadata": {},
   "outputs": [
    {
     "data": {
      "text/plain": [
       "0"
      ]
     },
     "execution_count": 67,
     "metadata": {},
     "output_type": "execute_result"
    }
   ],
   "source": [
    "import queue\n",
    "q = queue.Queue()\n",
    "q.put(0)\n",
    "q.put(1)\n",
    "q.get()#出队"
   ]
  },
  {
   "cell_type": "code",
   "execution_count": 71,
   "metadata": {},
   "outputs": [
    {
     "data": {
      "text/plain": [
       "3"
      ]
     },
     "execution_count": 71,
     "metadata": {},
     "output_type": "execute_result"
    }
   ],
   "source": [
    "priqueue = queue.PriorityQueue(5)\n",
    "priqueue.put(5)\n",
    "priqueue.put(3)\n",
    "priqueue.get()"
   ]
  },
  {
   "cell_type": "code",
   "execution_count": 73,
   "metadata": {},
   "outputs": [
    {
     "data": {
      "text/plain": [
       "7"
      ]
     },
     "execution_count": 73,
     "metadata": {},
     "output_type": "execute_result"
    }
   ],
   "source": [
    "#模拟栈\n",
    "myStack = []\n",
    "myStack.append(3)\n",
    "myStack.append(5)\n",
    "myStack.append(7)\n",
    "myStack.pop()"
   ]
  },
  {
   "cell_type": "code",
   "execution_count": 75,
   "metadata": {},
   "outputs": [
    {
     "data": {
      "text/plain": [
       "['2010', '10', '10']"
      ]
     },
     "execution_count": 75,
     "metadata": {},
     "output_type": "execute_result"
    }
   ],
   "source": [
    "s = \"2010-10-10\"\n",
    "t = s.split('-')#返回一个列表\n",
    "t"
   ]
  },
  {
   "cell_type": "code",
   "execution_count": 76,
   "metadata": {},
   "outputs": [
    {
     "data": {
      "text/plain": [
       "'2010--10--10'"
      ]
     },
     "execution_count": 76,
     "metadata": {},
     "output_type": "execute_result"
    }
   ],
   "source": [
    "\"--\".join(t)"
   ]
  },
  {
   "cell_type": "code",
   "execution_count": 77,
   "metadata": {},
   "outputs": [
    {
     "data": {
      "text/plain": [
       "'Python is u gryuty progrumming lunguugy'"
      ]
     },
     "execution_count": 77,
     "metadata": {},
     "output_type": "execute_result"
    }
   ],
   "source": [
    "#字符银蛇表与字符转换\n",
    "table = ''.maketrans(\"abcdef123\",\"uvwxyz@$%\")\n",
    "s = \"Python is a greate programming language\"\n",
    "s.translate(table)"
   ]
  },
  {
   "cell_type": "code",
   "execution_count": 79,
   "metadata": {},
   "outputs": [
    {
     "data": {
      "text/plain": [
       "'------------------------------Python is a greate programming language-------------------------------'"
      ]
     },
     "execution_count": 79,
     "metadata": {},
     "output_type": "execute_result"
    }
   ],
   "source": [
    "s.center(100,'-')"
   ]
  },
  {
   "cell_type": "code",
   "execution_count": 81,
   "metadata": {},
   "outputs": [
    {
     "name": "stdout",
     "output_type": "stream",
     "text": [
      "1 \n",
      "1 \n",
      "2 \n",
      "3 \n",
      "5 \n",
      "8 \n",
      "13 \n",
      "21 \n",
      "34 \n",
      "55 \n",
      "89 \n",
      "144 \n",
      "233 \n",
      "377 \n",
      "610 \n",
      "987 \n"
     ]
    }
   ],
   "source": [
    "def fib(n):\n",
    "    a,b = 1,1\n",
    "    while a<n:\n",
    "        print(a,end = ' ')\n",
    "        a,b = b, a+b\n",
    "        print()\n",
    "fib(1000)"
   ]
  },
  {
   "cell_type": "code",
   "execution_count": 83,
   "metadata": {},
   "outputs": [
    {
     "data": {
      "text/plain": [
       "6"
      ]
     },
     "execution_count": 83,
     "metadata": {},
     "output_type": "execute_result"
    }
   ],
   "source": [
    "#lambda函数\n",
    "f = lambda x,y,z : x+y+z\n",
    "f(1,2,3)"
   ]
  },
  {
   "cell_type": "code",
   "execution_count": 85,
   "metadata": {},
   "outputs": [
    {
     "data": {
      "text/plain": [
       "4950"
      ]
     },
     "execution_count": 85,
     "metadata": {},
     "output_type": "execute_result"
    }
   ],
   "source": [
    "from functools import reduce\n",
    "demo = [i for i in range(100)]\n",
    "reduce(lambda x,y : x+y,demo)"
   ]
  },
  {
   "cell_type": "code",
   "execution_count": null,
   "metadata": {},
   "outputs": [],
   "source": []
  }
 ],
 "metadata": {
  "kernelspec": {
   "display_name": "Python 3",
   "language": "python",
   "name": "python3"
  },
  "language_info": {
   "codemirror_mode": {
    "name": "ipython",
    "version": 3
   },
   "file_extension": ".py",
   "mimetype": "text/x-python",
   "name": "python",
   "nbconvert_exporter": "python",
   "pygments_lexer": "ipython3",
   "version": "3.7.1"
  }
 },
 "nbformat": 4,
 "nbformat_minor": 2
}
