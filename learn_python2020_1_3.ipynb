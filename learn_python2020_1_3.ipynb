{
 "cells": [
  {
   "cell_type": "markdown",
   "metadata": {},
   "source": [
    "# 类的定义与使用"
   ]
  },
  {
   "cell_type": "code",
   "execution_count": 1,
   "metadata": {},
   "outputs": [],
   "source": [
    "class Car():\n",
    "    def infor(self):\n",
    "        print(\"This is a car\")"
   ]
  },
  {
   "cell_type": "code",
   "execution_count": 2,
   "metadata": {},
   "outputs": [
    {
     "name": "stdout",
     "output_type": "stream",
     "text": [
      "This is a car\n"
     ]
    }
   ],
   "source": [
    "car = Car()\n",
    "car.infor()"
   ]
  },
  {
   "cell_type": "markdown",
   "metadata": {},
   "source": [
    "# isinstance(car,Car)"
   ]
  },
  {
   "cell_type": "code",
   "execution_count": 5,
   "metadata": {},
   "outputs": [
    {
     "name": "stdout",
     "output_type": "stream",
     "text": [
      "3\n"
     ]
    }
   ],
   "source": [
    "#self参数\n",
    "class A:\n",
    "    def __init__(demo,v):\n",
    "        demo.value = v\n",
    "    def show(demo):\n",
    "        print(demo.value)\n",
    "a = A(3)\n",
    "a.show()"
   ]
  },
  {
   "cell_type": "code",
   "execution_count": 14,
   "metadata": {},
   "outputs": [
    {
     "name": "stdout",
     "output_type": "stream",
     "text": [
      "red 1000\n",
      "Blue 2000 QQ\n",
      "Yellow 2000 QQ\n",
      "50\n"
     ]
    }
   ],
   "source": [
    "#类成员与实例成员\n",
    "class Car:\n",
    "    price = 1000  #定义类属性\n",
    "    def __init__(self,c):\n",
    "        self.color = c  #定义实例属性\n",
    "        \n",
    "car1 = Car(\"red\")\n",
    "car2 = Car(\"Blue\")\n",
    "print(car1.color,Car.price)\n",
    "Car.price = 2000\n",
    "Car.name = 'QQ'\n",
    "car1.color = \"Yellow\"\n",
    "print(car2.color,Car.price,Car.name)\n",
    "print(car1.color,Car.price,Car.name)\n",
    "def setspeed(self,s):\n",
    "    self.speed = s\n",
    "import types\n",
    "car1.setspeed = types.MethodType(setspeed,Car) #动态为对象增加成员方法\n",
    "car1.setspeed(50)\n",
    "print(car1.speed)"
   ]
  },
  {
   "cell_type": "code",
   "execution_count": 23,
   "metadata": {},
   "outputs": [
    {
     "name": "stdout",
     "output_type": "stream",
     "text": [
      "0\n",
      "1\n"
     ]
    }
   ],
   "source": [
    "#私有成员与公有成员\n",
    "class A:\n",
    "    def __init__(self,value1 = 0,value2 = 1):\n",
    "        self._value1 = value1 #保护成员\n",
    "        self.__value2 = value2 #私有成员\n",
    "    def setValue(self,value1,value2):\n",
    "        self._value1 = value1\n",
    "        self.__value2 = value2\n",
    "    def show(self):\n",
    "        print(self._value1)\n",
    "        print(self.__value2)\n",
    "\n",
    "a = A()\n",
    "print(a._value1)\n",
    "print(a._A__value2) #在外部访问对象的私有数据成员"
   ]
  },
  {
   "cell_type": "markdown",
   "metadata": {},
   "source": [
    "## 特殊成员定义和访问的方法"
   ]
  },
  {
   "cell_type": "code",
   "execution_count": 28,
   "metadata": {},
   "outputs": [
    {
     "name": "stdout",
     "output_type": "stream",
     "text": [
      "1\n",
      "1 Red\n",
      "1 Blue\n"
     ]
    }
   ],
   "source": [
    "class Fruit:\n",
    "    def __init__(self):\n",
    "        self.__color = 'Red'\n",
    "        self.price = 1\n",
    "apple = Fruit()\n",
    "print(apple.price)  #显示对象公开数据成员的值\n",
    "print(apple.price,apple._Fruit__color)  #显示对象私有数据成员的值\n",
    "apple._Fruit__color = 'Blue'  #修改对象私有数据成员的值\n",
    "print(apple.price,apple._Fruit__color)  #显示对象私有数据成员的值"
   ]
  },
  {
   "cell_type": "markdown",
   "metadata": {},
   "source": [
    "# 方法"
   ]
  },
  {
   "cell_type": "markdown",
   "metadata": {},
   "source": [
    "在类中定义的方法分为：公有方法，私有方法，静态方法，类方法\n",
    "其中公有方法，私有方法都属于对象，私有方法的名字以两个下划线__开始\n",
    "公有方法通过对象名直接调用，私有方法不能通过对象名直接调用，只能在属于对象的方法中通过self调用或在外部通过python支持的特殊方法来调用"
   ]
  },
  {
   "cell_type": "code",
   "execution_count": 29,
   "metadata": {},
   "outputs": [],
   "source": [
    "class Root:\n",
    "    __total = 0\n",
    "    def __init__(self,v):\n",
    "        self.__value = v\n",
    "        Root.__total += 1\n",
    "        \n",
    "    def show(self):\n",
    "        print('self.__value:',self.__value)\n",
    "        print('Root.__total:',Root.__total)\n",
    "        \n",
    "    @classmethod #修饰器声明类方法\n",
    "    def classShowTotal(cls):  #类方法\n",
    "        print(cls.__total)\n",
    "    \n",
    "    @staticmethod  #修饰器 声明静态方法\n",
    "    def staticShowTotal():\n",
    "        print(Root.__total)     "
   ]
  },
  {
   "cell_type": "code",
   "execution_count": 33,
   "metadata": {},
   "outputs": [
    {
     "name": "stdout",
     "output_type": "stream",
     "text": [
      "self.__value: 3\n",
      "Root.__total: 4\n",
      "4\n",
      "4\n",
      "5\n",
      "5\n"
     ]
    }
   ],
   "source": [
    "r = Root(3)\n",
    "r.show()\n",
    "r.classShowTotal()  #通过对象来调用类方法\n",
    "r.staticShowTotal() #通过对象来调用静态方法\n",
    "\n",
    "rr = Root(5)\n",
    "Root.classShowTotal() #通过类名调用类方法\n",
    "Root.staticShowTotal() #通过类名调用静态方法"
   ]
  },
  {
   "cell_type": "code",
   "execution_count": 34,
   "metadata": {},
   "outputs": [
    {
     "ename": "TypeError",
     "evalue": "show() missing 1 required positional argument: 'self'",
     "output_type": "error",
     "traceback": [
      "\u001b[1;31m---------------------------------------------------------------------------\u001b[0m",
      "\u001b[1;31mTypeError\u001b[0m                                 Traceback (most recent call last)",
      "\u001b[1;32m<ipython-input-34-2f3c82d47d3c>\u001b[0m in \u001b[0;36m<module>\u001b[1;34m\u001b[0m\n\u001b[1;32m----> 1\u001b[1;33m \u001b[0mRoot\u001b[0m\u001b[1;33m.\u001b[0m\u001b[0mshow\u001b[0m\u001b[1;33m(\u001b[0m\u001b[1;33m)\u001b[0m \u001b[1;31m#尝试通过类名直接调用实例方法，失败\u001b[0m\u001b[1;33m\u001b[0m\u001b[1;33m\u001b[0m\u001b[0m\n\u001b[0m",
      "\u001b[1;31mTypeError\u001b[0m: show() missing 1 required positional argument: 'self'"
     ]
    }
   ],
   "source": [
    "Root.show() #尝试通过类名直接调用实例方法，失败"
   ]
  },
  {
   "cell_type": "code",
   "execution_count": 36,
   "metadata": {},
   "outputs": [
    {
     "name": "stdout",
     "output_type": "stream",
     "text": [
      "self.__value: 5\n",
      "Root.__total: 5\n"
     ]
    }
   ],
   "source": [
    "#通过类名调用实例方法时为self参数显式传递对象名\n",
    "Root.show(rr)  #可以通过这种方法来调用方法并访问实例成员"
   ]
  },
  {
   "cell_type": "code",
   "execution_count": null,
   "metadata": {},
   "outputs": [],
   "source": []
  }
 ],
 "metadata": {
  "kernelspec": {
   "display_name": "Python 3",
   "language": "python",
   "name": "python3"
  },
  "language_info": {
   "codemirror_mode": {
    "name": "ipython",
    "version": 3
   },
   "file_extension": ".py",
   "mimetype": "text/x-python",
   "name": "python",
   "nbconvert_exporter": "python",
   "pygments_lexer": "ipython3",
   "version": "3.7.1"
  }
 },
 "nbformat": 4,
 "nbformat_minor": 2
}
