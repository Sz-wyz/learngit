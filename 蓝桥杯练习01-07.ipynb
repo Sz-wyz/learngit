{
 "cells": [
  {
   "cell_type": "markdown",
   "metadata": {},
   "source": [
    "问题描述 给出n个数，找出这n个数的最大值，最小值，和。\n",
    "\n",
    "输入格式 第一行为整数n，表示数的个数。\n",
    "\n",
    "第二行有n个数，为给定的n个数，每个数的绝对值都小于10000。\n",
    "\n",
    "输出格式 输出三行，每行一个整数。第一行表示这些数中的最大值，第二行表示这些数中的最小值，第三行表示这些数的和。"
   ]
  },
  {
   "cell_type": "code",
   "execution_count": 9,
   "metadata": {},
   "outputs": [
    {
     "name": "stdout",
     "output_type": "stream",
     "text": [
      "5\n",
      "1 3 -2 4 5\n",
      "5\n",
      "-2\n",
      "11\n"
     ]
    }
   ],
   "source": [
    "def function():\n",
    "    n = int(input())\n",
    "    int_list = [int(i) for i in input().split()]\n",
    "    print(max(int_list))\n",
    "    print(min(int_list))\n",
    "    print(sum(int_list))\n",
    "\n",
    "if __name__ == '__main__':\n",
    "    function()"
   ]
  },
  {
   "cell_type": "markdown",
   "metadata": {},
   "source": [
    " 问题描述\n",
    "\n",
    "给出一个包含n个整数的数列，问整数a在数列中的第一次出现是第几个。\n",
    "输入格式\n",
    "\n",
    "第一行包含一个整数n。\n",
    "\n",
    "第二行包含n个非负整数，为给定的数列，数列中的每个数都不大于10000。\n",
    "\n",
    "第三行包含一个整数a，为待查找的数。\n",
    "输出格式\n",
    "如果a在数列中出现了，输出它第一次出现的位置(位置从1开始编号)，否则输出-1。 "
   ]
  },
  {
   "cell_type": "code",
   "execution_count": 11,
   "metadata": {},
   "outputs": [
    {
     "name": "stdout",
     "output_type": "stream",
     "text": [
      "6\n",
      "1 9 4 8 3 9\n",
      "9\n",
      "2\n"
     ]
    }
   ],
   "source": [
    "def function():\n",
    "    n = int(input())\n",
    "    int_list = [int(i) for i in input().split()]\n",
    "    search_item = int(input())\n",
    "    if search_item in int_list:\n",
    "        print(int_list.index(search_item) + 1)\n",
    "    else:\n",
    "        print(-1)\n",
    "\n",
    "if __name__ == '__main__':\n",
    "    function()"
   ]
  },
  {
   "cell_type": "markdown",
   "metadata": {},
   "source": [
    " 问题描述\n",
    "\n",
    "杨辉三角形又称Pascal三角形，它的第i+1行是(a+b)i的展开式的系数。\n",
    "　　\n",
    "\n",
    "它的一个重要性质是：三角形中的每个数字等于它两肩上的数字相加。\n",
    "　　\n",
    "\n",
    "下面给出了杨辉三角形的前4行：\n",
    "　　\n",
    "\n",
    "   1\n",
    "　　\n",
    "\n",
    "  1 1\n",
    "　　\n",
    "\n",
    " 1 2 1\n",
    "　　\n",
    "\n",
    "1 3 3 1\n",
    "　　\n",
    "\n",
    "给出n，输出它的前n行。\n",
    "输入格式\n",
    "\n",
    "输入包含一个数n。\n",
    "输出格式\n",
    "输出杨辉三角形的前n行。每一行从这一行的第一个数开始依次输出，中间使用一个空格分隔。请不要在前面输出多余的空格。 "
   ]
  },
  {
   "cell_type": "code",
   "execution_count": 6,
   "metadata": {},
   "outputs": [
    {
     "name": "stdout",
     "output_type": "stream",
     "text": [
      "4\n",
      "1 \n",
      "1 1 \n",
      "1 2 1 \n",
      "1 3 3 1 \n"
     ]
    }
   ],
   "source": [
    "def function():\n",
    "    n = int(input())\n",
    "    a = [[] for i in range(n)]\n",
    "    for i in range(n): \n",
    "        for j in range(n): \n",
    "            if j==0: \n",
    "                a[i].append(1) \n",
    "            elif j<=i-1 and j!=0: \n",
    "                a[i].append(a[i-1][j-1]+a[i-1][j]) \n",
    "            elif j==i: \n",
    "                a[i].append(1) \n",
    "                break\n",
    "    for i in range(n):\n",
    "        for j in a[i]:\n",
    "            print(j,end = ' ')\n",
    "        print()\n",
    "\n",
    "if __name__ == '__main__':\n",
    "    function()"
   ]
  },
  {
   "cell_type": "markdown",
   "metadata": {},
   "source": [
    "问题描述\n",
    "　　153是一个非常特殊的数，它等于它的每位数字的立方和，即153=1*1*1+5*5*5+3*3*3。编程求所有满足这种条件的三位十进制数。\n",
    "输出格式\n",
    "　　按从小到大的顺序输出满足条件的三位十进制数，每个数占一行。"
   ]
  },
  {
   "cell_type": "code",
   "execution_count": 21,
   "metadata": {},
   "outputs": [
    {
     "name": "stdout",
     "output_type": "stream",
     "text": [
      "153\n",
      "370\n",
      "371\n",
      "407\n"
     ]
    }
   ],
   "source": [
    "def  judge(n):\n",
    "    a = n//100\n",
    "    b = (n//10)%10\n",
    "    c = n%10\n",
    "    if a*a*a + b*b*b + c*c*c == n:\n",
    "        return 1\n",
    "    else:\n",
    "        return 0\n",
    "\n",
    "def function():\n",
    "    for i in range(100,1000):\n",
    "        if judge(i):\n",
    "            print(i)\n",
    "\n",
    "if __name__ == '__main__':\n",
    "    function()"
   ]
  },
  {
   "cell_type": "markdown",
   "metadata": {},
   "source": [
    "问题描述\n",
    "　　1221是一个非常特殊的数，它从左边读和从右边读是一样的，编程求所有这样的四位十进制数。\n",
    "输出格式\n",
    "　　按从小到大的顺序输出满足条件的四位十进制数。"
   ]
  },
  {
   "cell_type": "code",
   "execution_count": 32,
   "metadata": {},
   "outputs": [
    {
     "name": "stdout",
     "output_type": "stream",
     "text": [
      "1001\n",
      "1111\n",
      "1221\n",
      "1331\n",
      "1441\n",
      "1551\n",
      "1661\n",
      "1771\n",
      "1881\n",
      "1991\n",
      "2002\n",
      "2112\n",
      "2222\n",
      "2332\n",
      "2442\n",
      "2552\n",
      "2662\n",
      "2772\n",
      "2882\n",
      "2992\n",
      "3003\n",
      "3113\n",
      "3223\n",
      "3333\n",
      "3443\n",
      "3553\n",
      "3663\n",
      "3773\n",
      "3883\n",
      "3993\n",
      "4004\n",
      "4114\n",
      "4224\n",
      "4334\n",
      "4444\n",
      "4554\n",
      "4664\n",
      "4774\n",
      "4884\n",
      "4994\n",
      "5005\n",
      "5115\n",
      "5225\n",
      "5335\n",
      "5445\n",
      "5555\n",
      "5665\n",
      "5775\n",
      "5885\n",
      "5995\n",
      "6006\n",
      "6116\n",
      "6226\n",
      "6336\n",
      "6446\n",
      "6556\n",
      "6666\n",
      "6776\n",
      "6886\n",
      "6996\n",
      "7007\n",
      "7117\n",
      "7227\n",
      "7337\n",
      "7447\n",
      "7557\n",
      "7667\n",
      "7777\n",
      "7887\n",
      "7997\n",
      "8008\n",
      "8118\n",
      "8228\n",
      "8338\n",
      "8448\n",
      "8558\n",
      "8668\n",
      "8778\n",
      "8888\n",
      "8998\n",
      "9009\n",
      "9119\n",
      "9229\n",
      "9339\n",
      "9449\n",
      "9559\n",
      "9669\n",
      "9779\n",
      "9889\n",
      "9999\n"
     ]
    }
   ],
   "source": [
    "def judge2(n):\n",
    "    a = n//1000\n",
    "    b = (n//100)%10\n",
    "    c = (n//10)%10\n",
    "    d = n%10\n",
    "    if d*1000 + c*100 + b*10 + a == n:\n",
    "        return 1\n",
    "    else:\n",
    "        return 0\n",
    "    \n",
    "for i in range(1000,10000):\n",
    "    if judge2(i):\n",
    "        print(i)"
   ]
  },
  {
   "cell_type": "markdown",
   "metadata": {},
   "source": [
    "问题描述\n",
    "　　123321是一个非常特殊的数，它从左边读和从右边读是一样的。\n",
    "　　输入一个正整数n， 编程求所有这样的五位和六位十进制数，满足各位数字之和等于n 。\n",
    "输入格式\n",
    "　　输入一行，包含一个正整数n。\n",
    "输出格式\n",
    "　　按从小到大的顺序输出满足条件的整数，每个整数占一行。"
   ]
  },
  {
   "cell_type": "code",
   "execution_count": 93,
   "metadata": {},
   "outputs": [
    {
     "name": "stdout",
     "output_type": "stream",
     "text": [
      "45\n",
      "99999\n"
     ]
    }
   ],
   "source": [
    "'''此结果超时,得20%'''\n",
    "def num2str(value):  #返回所有位数的数值组成的列表\n",
    "    return list(map(int, str(value)))\n",
    "\n",
    "def judge4(n):\n",
    "    if n <= 45:\n",
    "        a = 10000\n",
    "        b = 100000\n",
    "    else:\n",
    "        a = 100000\n",
    "        b = 1000000\n",
    "    for i in range(a,b):\n",
    "        list_temp = num2str(i)\n",
    "        if sum(list_temp) == n:  #和为n 则继续 \n",
    "            c = 0\n",
    "            for j in range(len(list_temp)//2):\n",
    "                if list_temp[j] != list_temp[len(list_temp) - j - 1]:\n",
    "                    c = 1\n",
    "                    break\n",
    "            if c == 0:\n",
    "                print(i)\n",
    "\n",
    "k = int(input())\n",
    "judge4(k)"
   ]
  },
  {
   "cell_type": "markdown",
   "metadata": {},
   "source": [
    "问题描述\n",
    "　　十六进制数是在程序设计时经常要使用到的一种整数的表示方式。它有0,1,2,3,4,5,6,7,8,9,A,B,C,D,E,F共16个符号，分别表示十进制数的0至15。十六进制的计数方法是满16进1，所以十进制数16在十六进制中是10，而十进制的17在十六进制中是11，以此类推，十进制的30在十六进制中是1E。\n",
    "　　给出一个非负整数，将它表示成十六进制的形式。\n",
    "输入格式\n",
    "　　输入包含一个非负整数a，表示要转换的数。0<=a<=2147483647\n",
    "输出格式\n",
    "　　输出这个整数的16进制表示"
   ]
  },
  {
   "cell_type": "code",
   "execution_count": 105,
   "metadata": {},
   "outputs": [
    {
     "name": "stdout",
     "output_type": "stream",
     "text": [
      "30\n",
      "1E\n"
     ]
    }
   ],
   "source": [
    "def function():\n",
    "    ch = input()\n",
    "    print(hex(int(ch)).upper().split('0X')[-1])\n",
    "\n",
    "if __name__ == '__main__':\n",
    "    function()"
   ]
  },
  {
   "cell_type": "markdown",
   "metadata": {},
   "source": [
    "问题描述\n",
    "　　从键盘输入一个不超过8位的正的十六进制数字符串，将它转换为正的十进制数后输出。\n",
    "　　注：十六进制数中的10~15分别用大写的英文字母A、B、C、D、E、F表示。\n",
    "样例输入\n",
    "FFFF\n",
    "样例输出\n",
    "65535"
   ]
  },
  {
   "cell_type": "code",
   "execution_count": 107,
   "metadata": {},
   "outputs": [
    {
     "name": "stdout",
     "output_type": "stream",
     "text": [
      "FFFF\n",
      "65535\n"
     ]
    }
   ],
   "source": [
    "def function():\n",
    "    ch = '0x' + input()\n",
    "    print(int(ch,16))\n",
    "\n",
    "if __name__ == '__main__':\n",
    "    function()"
   ]
  },
  {
   "cell_type": "markdown",
   "metadata": {},
   "source": [
    "问题描述\n",
    "　　给定n个十六进制正整数，输出它们对应的八进制数。\n",
    "\n",
    "输入格式\n",
    "　　输入的第一行为一个正整数n （1<=n<=10）。\n",
    "　　接下来n行，每行一个由0~9、大写字母A~F组成的字符串，表示要转换的十六进制正整数，每个十六进制数长度不超过100000。\n",
    "\n",
    "输出格式\n",
    "　　输出n行，每行为输入对应的八进制正整数。\n",
    "\n",
    "　　【注意】\n",
    "　　输入的十六进制数不会有前导0，比如012A。\n",
    "　　输出的八进制数也不能有前导0。\n"
   ]
  },
  {
   "cell_type": "code",
   "execution_count": 114,
   "metadata": {},
   "outputs": [
    {
     "name": "stdout",
     "output_type": "stream",
     "text": [
      "4\n",
      "39\n",
      "123ABC\n",
      "71\n",
      "4435274\n"
     ]
    }
   ],
   "source": [
    "def function():\n",
    "    useless = input()\n",
    "    ch_a = input()\n",
    "    ch_b = input()\n",
    "    print(oct(int('0X' + ch_a.lower(),16)).split('0o')[-1])\n",
    "    print(oct(int('0X' + ch_b.lower(),16)).split('0o')[-1])\n",
    "\n",
    "if __name__ == '__main__':\n",
    "    function()"
   ]
  },
  {
   "cell_type": "code",
   "execution_count": null,
   "metadata": {},
   "outputs": [],
   "source": []
  }
 ],
 "metadata": {
  "kernelspec": {
   "display_name": "Python 3",
   "language": "python",
   "name": "python3"
  },
  "language_info": {
   "codemirror_mode": {
    "name": "ipython",
    "version": 3
   },
   "file_extension": ".py",
   "mimetype": "text/x-python",
   "name": "python",
   "nbconvert_exporter": "python",
   "pygments_lexer": "ipython3",
   "version": "3.7.1"
  }
 },
 "nbformat": 4,
 "nbformat_minor": 2
}
