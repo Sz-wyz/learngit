{
 "cells": [
  {
   "cell_type": "markdown",
   "metadata": {},
   "source": [
    "输入A、B，输出A+B。"
   ]
  },
  {
   "cell_type": "code",
   "execution_count": 11,
   "metadata": {},
   "outputs": [
    {
     "name": "stdout",
     "output_type": "stream",
     "text": [
      "13 45\n",
      "58\n"
     ]
    }
   ],
   "source": [
    "def main():\n",
    "    ch = input()\n",
    "    a = ch.split(' ')[0]\n",
    "    b = ch.split(' ')[-1]\n",
    "    print(int(a) + int(b))\n",
    "    \n",
    "if __name__ == '__main__':\n",
    "    main()"
   ]
  },
  {
   "cell_type": "markdown",
   "metadata": {},
   "source": [
    "问题描述\n",
    "求1+2+3+...+n的值。\n",
    "输入格式\n",
    "输入包括一个整数n。\n",
    "输出格式\n",
    "输出一行，包括一个整数，表示1+2+3+...+n的值。"
   ]
  },
  {
   "cell_type": "code",
   "execution_count": 17,
   "metadata": {},
   "outputs": [
    {
     "name": "stdout",
     "output_type": "stream",
     "text": [
      "4\n",
      "10\n"
     ]
    }
   ],
   "source": [
    "#这样写会导致超时\n",
    "def qiuhe():\n",
    "    k = int(input())\n",
    "    result = 0\n",
    "    for i in range(k+1):\n",
    "        result = result + i\n",
    "    print(result)\n",
    "\n",
    "if __name__ == '__main__':\n",
    "    qiuhe()    "
   ]
  },
  {
   "cell_type": "code",
   "execution_count": 20,
   "metadata": {},
   "outputs": [
    {
     "name": "stdout",
     "output_type": "stream",
     "text": [
      "100\n",
      "5050\n"
     ]
    }
   ],
   "source": [
    "def qiuhe2():\n",
    "    k = int(input())\n",
    "    result = k + k*(k-1)/2\n",
    "    print(int(result))\n",
    "    \n",
    "if __name__ == '__main__':\n",
    "    qiuhe2()"
   ]
  },
  {
   "cell_type": "markdown",
   "metadata": {},
   "source": [
    "问题描述\n",
    "给定圆的半径r，求圆的面积。\n",
    "输入格式\n",
    "输入包含一个整数r，表示圆的半径。\n",
    "输出格式\n",
    "输出一行，包含一个实数，四舍五入保留小数点后7位，表示圆的面积。"
   ]
  },
  {
   "cell_type": "code",
   "execution_count": null,
   "metadata": {},
   "outputs": [],
   "source": [
    "import math\n",
    "def mianji():\n",
    "    r = int(input())\n",
    "    s = math.pi * r * r\n",
    "    print('%.7f' % s)\n",
    "    \n",
    "if __name__ == '__main__':\n",
    "    mianji()"
   ]
  },
  {
   "cell_type": "markdown",
   "metadata": {},
   "source": [
    "问题描述\n",
    "Fibonacci数列的递推公式为：Fn=Fn-1+Fn-2，其中F1=F2=1。\n",
    "\n",
    "当n比较大时，Fn也非常大，现在我们想知道，Fn除以10007的余数是多少。\n",
    "\n",
    "输入格式\n",
    "输入包含一个整数n。\n",
    "输出格式\n",
    "输出一行，包含一个整数，表示Fn除以10007的余数。"
   ]
  },
  {
   "cell_type": "code",
   "execution_count": 44,
   "metadata": {},
   "outputs": [
    {
     "name": "stdout",
     "output_type": "stream",
     "text": [
      "22\n",
      "7704\n"
     ]
    }
   ],
   "source": [
    "def Fibonacci():\n",
    "    n = int(input())\n",
    "    s1 = 1\n",
    "    s2 = 1\n",
    "    for i in range(n-2):      \n",
    "        temp = s1 +s2\n",
    "        s1 =s2\n",
    "        s2 = temp\n",
    "    print(s2%10007)\n",
    "\n",
    "if __name__ == '__main__':\n",
    "    Fibonacci()"
   ]
  },
  {
   "cell_type": "code",
   "execution_count": null,
   "metadata": {},
   "outputs": [],
   "source": []
  }
 ],
 "metadata": {
  "kernelspec": {
   "display_name": "Python 3",
   "language": "python",
   "name": "python3"
  },
  "language_info": {
   "codemirror_mode": {
    "name": "ipython",
    "version": 3
   },
   "file_extension": ".py",
   "mimetype": "text/x-python",
   "name": "python",
   "nbconvert_exporter": "python",
   "pygments_lexer": "ipython3",
   "version": "3.7.1"
  }
 },
 "nbformat": 4,
 "nbformat_minor": 2
}
