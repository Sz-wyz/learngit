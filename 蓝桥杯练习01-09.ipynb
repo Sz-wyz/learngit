{
 "cells": [
  {
   "cell_type": "markdown",
   "metadata": {},
   "source": [
    "问题描述\n",
    "　　给定一个长度为n的数列，将这个数列按从小到大的顺序排列。1<=n<=200\n",
    "输入格式\n",
    "　　第一行为一个整数n。\n",
    "　　第二行包含n个整数，为待排序的数，每个整数的绝对值小于10000。\n",
    "输出格式\n",
    "　　输出一行，按从小到大的顺序输出排序后的数列。"
   ]
  },
  {
   "cell_type": "code",
   "execution_count": null,
   "metadata": {},
   "outputs": [],
   "source": [
    "def function1():\n",
    "    n = input()\n",
    "    ch_list = input().split()\n",
    "    int_list = [int(i) for i in ch_list]\n",
    "    int_list.sort()\n",
    "    for i in int_list:\n",
    "        print(i,end=' ')\n",
    "\n",
    "if __name__ == '__main__':\n",
    "    function1()"
   ]
  },
  {
   "cell_type": "markdown",
   "metadata": {},
   "source": [
    "问题描述\n",
    "　　编写一个程序，输入两个整数，分别存放在变量x和y当中，然后使用自己定义的函数swap来交换这两个变量的值。\n",
    "　　输入格式：输入只有一行，包括两个整数。\n",
    "　　输出格式：输出只有一行，也是两个整数，即交换以后的结果。\n",
    "　　要求：主函数负责数据的输入与输出，但不能直接交换这两个变量的值，必须通过调用单独定义的函数swap来完成，而swap函数只负责交换变量的值，不能输出交换后的结果。\n",
    "输入输出样例\n",
    "样例输入\n",
    "4 7\n",
    "样例输出\n",
    "7 4"
   ]
  },
  {
   "cell_type": "code",
   "execution_count": 6,
   "metadata": {},
   "outputs": [
    {
     "name": "stdout",
     "output_type": "stream",
     "text": [
      "3 4\n",
      "4 3\n"
     ]
    }
   ],
   "source": [
    "def function2():\n",
    "    int_list = [int(i) for i in input().split()]\n",
    "    a = int_list[0]\n",
    "    b = int_list[-1]\n",
    "    print(b,end=' ')\n",
    "    print(a)\n",
    "\n",
    "if __name__ == '__main__':\n",
    "    function2()"
   ]
  },
  {
   "cell_type": "markdown",
   "metadata": {},
   "source": [
    "问题描述\n",
    "　　你的表妹正在学习整数的加法，请编写一个程序来帮助她学习。该程序调用了一个函数GetTwoInts，由它来返回两个从键盘读入的100以内的整数，然后计算这两个整数之和，并把答案显示出来。要求：在主函数中不能使用scanf等函数直接输入这两个整数，而必须通过调用GetTwoInts函数来完成，在GetTwoInts函数中可以使用scanf函数。另外，由于该函数必须同时返回两个整数，因此不能采用函数返回值的方式，而必须采用指针的方法来实现。\n",
    "　　输入格式：输入只有一行，即两个100以内的整数。\n",
    "　　输出格式：输出只有一行，即这两个整数之和。\n",
    "输入输出样例\n",
    "样例输入\n",
    "4 7\n",
    "样例输出\n",
    "11"
   ]
  },
  {
   "cell_type": "code",
   "execution_count": 7,
   "metadata": {},
   "outputs": [
    {
     "name": "stdout",
     "output_type": "stream",
     "text": [
      "4 7\n",
      "11\n"
     ]
    }
   ],
   "source": [
    "def function3():\n",
    "    int_list = [int(i) for i in input().split()]\n",
    "    print(sum(int_list))\n",
    "\n",
    "if __name__ == '__main__':\n",
    "    function3()"
   ]
  },
  {
   "cell_type": "markdown",
   "metadata": {},
   "source": [
    "问题描述\n",
    "　　小明来到一个景区游玩，但是他的时间有限，没办法逛遍所有的景点，所以他从网上下载了每个景点的评分，他希望能够使游览的景点的评分总和最高，于是他希望你帮他对于N个景点排下序。\n",
    "输入格式\n",
    "　　输入的第一行包含一个正整数N，表示N个景点。\n",
    "　　第二行有N个正整数，表示每个景点的评分值。\n",
    "输出格式\n",
    "　　输出一行，包含N个正整数，表示N个景点的评分从大到小的排列"
   ]
  },
  {
   "cell_type": "code",
   "execution_count": 8,
   "metadata": {},
   "outputs": [
    {
     "name": "stdout",
     "output_type": "stream",
     "text": [
      "4\n",
      "3 2 4 1\n",
      "4 3 2 1 "
     ]
    }
   ],
   "source": [
    "def function4():\n",
    "    n = input()\n",
    "    int_list = [int(i) for i in input().split()]\n",
    "    int_list.sort(reverse=True)\n",
    "    for i in int_list:\n",
    "        print(i,end = ' ')\n",
    "\n",
    "if __name__ == '__main__':\n",
    "    function4()"
   ]
  },
  {
   "cell_type": "markdown",
   "metadata": {},
   "source": [
    "问题描述\n",
    "100 可以表示为带分数的形式：100 = 3 + 69258 / 714。\n",
    "\n",
    "还可以表示为：100 = 82 + 3546 / 197。\n",
    "\n",
    "注意特征：带分数中，数字1~9分别出现且只出现一次（不包含0）。\n",
    "\n",
    "类似这样的带分数，100 有 11 种表示法。\n",
    "\n",
    "输入格式\n",
    "从标准输入读入一个正整数N (N<1000*1000)\n",
    "\n",
    "输出格式\n",
    "程序输出该数字用数码1~9不重复不遗漏地组成带分数表示的全部种数。\n",
    "\n",
    "注意：不要求输出每个表示，只统计有多少表示法！"
   ]
  },
  {
   "cell_type": "code",
   "execution_count": 11,
   "metadata": {},
   "outputs": [
    {
     "name": "stdout",
     "output_type": "stream",
     "text": [
      "[1, 2, 3, 4, 5, 6, 7, 8, 9]\n"
     ]
    }
   ],
   "source": [
    "def function5():  #带分数\n",
    "    ten_list = [i for i in range(1,10)]\n",
    "\n",
    "function5()"
   ]
  },
  {
   "cell_type": "code",
   "execution_count": null,
   "metadata": {},
   "outputs": [],
   "source": []
  }
 ],
 "metadata": {
  "kernelspec": {
   "display_name": "Python 3",
   "language": "python",
   "name": "python3"
  },
  "language_info": {
   "codemirror_mode": {
    "name": "ipython",
    "version": 3
   },
   "file_extension": ".py",
   "mimetype": "text/x-python",
   "name": "python",
   "nbconvert_exporter": "python",
   "pygments_lexer": "ipython3",
   "version": "3.7.1"
  }
 },
 "nbformat": 4,
 "nbformat_minor": 2
}
