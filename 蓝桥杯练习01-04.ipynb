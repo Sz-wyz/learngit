{
 "cells": [
  {
   "cell_type": "markdown",
   "metadata": {},
   "source": [
    "问题描述\n",
    "Fibonacci数列的递推公式为：Fn=Fn-1+Fn-2，其中F1=F2=1。\n",
    "\n",
    "当n比较大时，Fn也非常大，现在我们想知道，Fn除以10007的余数是多少。\n",
    "\n",
    "输入格式\n",
    "输入包含一个整数n。\n",
    "输出格式\n",
    "输出一行，包含一个整数，表示Fn除以10007的余数。"
   ]
  },
  {
   "cell_type": "code",
   "execution_count": 1,
   "metadata": {},
   "outputs": [
    {
     "name": "stdout",
     "output_type": "stream",
     "text": [
      "22\n",
      "7704\n"
     ]
    }
   ],
   "source": [
    "def Fibonacci():\n",
    "    n = int(input())\n",
    "    s1 = 1\n",
    "    s2 = 1\n",
    "    for i in range(n-2):      \n",
    "        temp = s1 +s2\n",
    "        s1 =s2\n",
    "        s2 = temp%10007  #这样每次取余不会导致超时\n",
    "    print(s2)\n",
    "\n",
    "if __name__ == '__main__':\n",
    "    Fibonacci()"
   ]
  },
  {
   "cell_type": "markdown",
   "metadata": {},
   "source": [
    "问题描述\n",
    "给定一个年份，判断这一年是不是闰年。\n",
    "\n",
    "当以下情况之一满足时，这一年是闰年：\n",
    "\n",
    "1. 年份是4的倍数而不是100的倍数；\n",
    "\n",
    "2. 年份是400的倍数。\n",
    "\n",
    "其他的年份都不是闰年。\n",
    "\n",
    "输入格式\n",
    "输入包含一个整数y，表示当前的年份。\n",
    "输出格式\n",
    "输出一行，如果给定的年份是闰年，则输出yes，否则输出no。"
   ]
  },
  {
   "cell_type": "code",
   "execution_count": 2,
   "metadata": {},
   "outputs": [
    {
     "name": "stdout",
     "output_type": "stream",
     "text": [
      "2013\n",
      "no\n"
     ]
    }
   ],
   "source": [
    "def demo():\n",
    "    n = int(input())\n",
    "    if n%400 == 0 or (n%4 == 0 and n%100 != 0):\n",
    "        print('yes')\n",
    "    else:\n",
    "        print('no')\n",
    "\n",
    "if __name__ == '__main__':\n",
    "    demo()"
   ]
  },
  {
   "cell_type": "markdown",
   "metadata": {},
   "source": [
    "问题描述\n",
    "对于长度为5位的一个01串，每一位都可能是0或1，一共有32种可能。它们的前几个是：\n",
    "\n",
    "00000\n",
    "\n",
    "00001\n",
    "\n",
    "00010\n",
    "\n",
    "00011\n",
    "\n",
    "00100\n",
    "\n",
    "请按从小到大的顺序输出这32种01串。\n",
    "\n",
    "输入格式\n",
    "本试题没有输入。\n",
    "输出格式\n",
    "输出32行，按从小到大的顺序每行一个长度为5的01串。"
   ]
  },
  {
   "cell_type": "code",
   "execution_count": 22,
   "metadata": {},
   "outputs": [
    {
     "name": "stdout",
     "output_type": "stream",
     "text": [
      "00000\n",
      "00001\n",
      "00010\n",
      "00011\n",
      "00100\n",
      "00101\n",
      "00110\n",
      "00111\n",
      "01000\n",
      "01001\n",
      "01010\n",
      "01011\n",
      "01100\n",
      "01101\n",
      "01110\n",
      "01111\n",
      "10000\n",
      "10001\n",
      "10010\n",
      "10011\n",
      "10100\n",
      "10101\n",
      "10110\n",
      "10111\n",
      "11000\n",
      "11001\n",
      "11010\n",
      "11011\n",
      "11100\n",
      "11101\n",
      "11110\n",
      "11111\n"
     ]
    }
   ],
   "source": [
    "def demo():\n",
    "    for i in range(32):\n",
    "        result = str(bin(i)).split('0b')[1] #将其二进制化分隔0b\n",
    "        if len(result) < 5:\n",
    "            result = '0' * (5-len(result)) + result\n",
    "        print(result)\n",
    "\n",
    "if __name__ == '__main__':\n",
    "    demo()"
   ]
  },
  {
   "cell_type": "markdown",
   "metadata": {},
   "source": [
    "问题描述\n",
    "利用字母可以组成一些美丽的图形，下面给出了一个例子：\n",
    "\n",
    "ABCDEFG\n",
    "\n",
    "BABCDEF\n",
    "\n",
    "CBABCDE\n",
    "\n",
    "DCBABCD\n",
    "\n",
    "EDCBABC\n",
    "\n",
    "这是一个5行7列的图形，请找出这个图形的规律，并输出一个n行m列的图形。\n",
    "\n",
    "输入格式\n",
    "输入一行，包含两个整数n和m，分别表示你要输出的图形的行数的列数。\n",
    "输出格式\n",
    "输出n行，每个m个字符，为你的图形。"
   ]
  },
  {
   "cell_type": "code",
   "execution_count": 45,
   "metadata": {},
   "outputs": [
    {
     "name": "stdout",
     "output_type": "stream",
     "text": [
      "5 7\n",
      "ABCDEFG\n",
      "BABCDEF\n",
      "CBABCDE\n",
      "DCBABCD\n",
      "EDCBABC\n"
     ]
    }
   ],
   "source": [
    "def demo():\n",
    "    ch = input()\n",
    "    a = int(ch.split(' ')[0])\n",
    "    b = int(ch.split(' ')[1])\n",
    "    temp = [chr(90 - i) for i in range(25)] #初试逆序字母序列\n",
    "    for i in range(26):\n",
    "        temp.append(chr(65 + i))  #构造全字母的序列\n",
    "    for i in range(a):\n",
    "        outstr = ''\n",
    "        for j in range(b):\n",
    "            outstr = outstr + temp[25 - i + j]\n",
    "        print(outstr)\n",
    "\n",
    "if __name__ == '__main__':\n",
    "    demo()"
   ]
  },
  {
   "cell_type": "markdown",
   "metadata": {},
   "source": [
    "问题描述\n",
    "给出n个数，找出这n个数的最大值，最小值，和。\n",
    "\n",
    "输入格式\n",
    "第一行为整数n，表示数的个数。\n",
    "\n",
    "第二行有n个数，为给定的n个数，每个数的绝对值都小于10000。\n",
    "\n",
    "输出格式\n",
    "输出三行，每行一个整数。第一行表示这些数中的最大值，第二行表示这些数中的最小值，第三行表示这些数的和。"
   ]
  },
  {
   "cell_type": "code",
   "execution_count": 49,
   "metadata": {
    "scrolled": true
   },
   "outputs": [
    {
     "name": "stdout",
     "output_type": "stream",
     "text": [
      "1\n",
      "-815\n",
      "-815\n",
      "-815\n",
      "-815\n"
     ]
    }
   ],
   "source": [
    "def demo():\n",
    "    k = input()\n",
    "    ch_list = input().split(' ')\n",
    "    int_list = [int(i) for i in ch_list]\n",
    "    print(max(int_list))\n",
    "    print(min(int_list))\n",
    "    print(sum(int_list))\n",
    "\n",
    "if __name__ == '__main__':\n",
    "    demo()"
   ]
  },
  {
   "cell_type": "markdown",
   "metadata": {},
   "source": [
    "问题描述\n",
    "给出一个包含n个整数的数列，问整数a在数列中的第一次出现是第几个。\n",
    "\n",
    "输入格式\n",
    "第一行包含一个整数n。\n",
    "\n",
    "第二行包含n个非负整数，为给定的数列，数列中的每个数都不大于10000。\n",
    "\n",
    "第三行包含一个整数a，为待查找的数。\n",
    "\n",
    "输出格式\n",
    "如果a在数列中出现了，输出它第一次出现的位置(位置从1开始编号)，否则输出-1。"
   ]
  },
  {
   "cell_type": "code",
   "execution_count": 57,
   "metadata": {},
   "outputs": [
    {
     "name": "stdout",
     "output_type": "stream",
     "text": [
      "2\n",
      "141 42\n",
      "41\n",
      "-1\n"
     ]
    }
   ],
   "source": [
    "def demo():\n",
    "    n = int(input())\n",
    "    ch_list = input().split(' ')\n",
    "    int_list = [int(i) for i in ch_list]\n",
    "    search_int = int(input())\n",
    "    temp = 0\n",
    "    for i in range(len(int_list)):\n",
    "        if int_list[i] == search_int:\n",
    "            print(i+1)\n",
    "            temp = 1\n",
    "            break\n",
    "    if temp == 0:\n",
    "        print(-1)\n",
    "    \n",
    "if __name__ == '__main__':\n",
    "    demo()"
   ]
  },
  {
   "cell_type": "markdown",
   "metadata": {},
   "source": [
    "问题描述\n",
    "小张是软件项目经理，他带领3个开发组。工期紧，今天都在加班呢。为鼓舞士气，小张打算给每个组发一袋核桃（据传言能补脑）。他的要求是：\n",
    "\n",
    "1. 各组的核桃数量必须相同\n",
    "\n",
    "2. 各组内必须能平分核桃（当然是不能打碎的）\n",
    "\n",
    "3. 尽量提供满足1,2条件的最小数量（节约闹革命嘛）\n",
    "\n",
    "输入格式\n",
    "输入包含三个正整数a, b, c，表示每个组正在加班的人数，用空格分开（a,b,c<30）\n",
    "输出格式\n",
    "输出一个正整数，表示每袋核桃的数量。"
   ]
  },
  {
   "cell_type": "code",
   "execution_count": 69,
   "metadata": {},
   "outputs": [
    {
     "name": "stdout",
     "output_type": "stream",
     "text": [
      "2 4 5\n",
      "20\n"
     ]
    }
   ],
   "source": [
    "def demo():\n",
    "    ch_list = input().split(' ')\n",
    "    int_list = [int(i) for i in ch_list]\n",
    "    a,b,c = int_list[0],int_list[1],int_list[2]\n",
    "    n = max(a,b,c)\n",
    "    while(1):\n",
    "        if(n%a == 0 and n%b ==0 and n%c == 0):\n",
    "            print(n)\n",
    "            break\n",
    "        else:\n",
    "            n = n + 1\n",
    "\n",
    "if __name__ == '__main__':\n",
    "    demo()"
   ]
  },
  {
   "cell_type": "code",
   "execution_count": null,
   "metadata": {},
   "outputs": [],
   "source": []
  }
 ],
 "metadata": {
  "kernelspec": {
   "display_name": "Python 3",
   "language": "python",
   "name": "python3"
  },
  "language_info": {
   "codemirror_mode": {
    "name": "ipython",
    "version": 3
   },
   "file_extension": ".py",
   "mimetype": "text/x-python",
   "name": "python",
   "nbconvert_exporter": "python",
   "pygments_lexer": "ipython3",
   "version": "3.7.1"
  }
 },
 "nbformat": 4,
 "nbformat_minor": 2
}
